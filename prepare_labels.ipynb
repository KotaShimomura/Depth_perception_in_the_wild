{
 "cells": [
  {
   "cell_type": "code",
   "execution_count": null,
   "id": "bulgarian-innocent",
   "metadata": {},
   "outputs": [],
   "source": [
    "from PIL import Image\n",
    "import pandas as pd\n",
    "import numpy as np\n",
    "import pickle as pkl\n",
    "from tqdm import tqdm"
   ]
  },
  {
   "cell_type": "code",
   "execution_count": null,
   "id": "virgin-colorado",
   "metadata": {},
   "outputs": [],
   "source": [
    "!pwd"
   ]
  },
  {
   "cell_type": "code",
   "execution_count": null,
   "id": "original-dancing",
   "metadata": {},
   "outputs": [],
   "source": [
    "path = '/tmp/working/workspace/Depth_perception_in_the_wild/data/DIW_Annotations/'"
   ]
  },
  {
   "cell_type": "code",
   "execution_count": null,
   "id": "instructional-federal",
   "metadata": {},
   "outputs": [],
   "source": [
    "def convert_depth(x):\n",
    "    if x == '>':\n",
    "        return 1\n",
    "    elif x == '<':\n",
    "        return -1\n",
    "    else:\n",
    "        return 0"
   ]
  },
  {
   "cell_type": "code",
   "execution_count": null,
   "id": "italic-native",
   "metadata": {},
   "outputs": [],
   "source": [
    "def convert_labels(path):\n",
    "    raw_labels = pd.read_csv(path, header=None, skiprows=1)\n",
    "    names = raw_labels[raw_labels[0].apply(lambda x: x[0] == '.')]\n",
    "    raw_labels[4] = raw_labels[4].apply(convert_depth)\n",
    "    labels = []\n",
    "    for i in tqdm(range(len(names.index))):\n",
    "        if i+1 >=len(names.index):\n",
    "            points = raw_labels[names.index[i]+1:].values.astype('float32')\n",
    "        else:\n",
    "            points = raw_labels[names.index[i]+1:names.index[i+1]].values.astype('float32')\n",
    "        label = {}\n",
    "        label['name'] = names.iloc[i][0].split('/')[-1]\n",
    "        label['x_A'] = points[:, 0]\n",
    "        label['y_A'] = points[:, 1]\n",
    "        label['x_B'] = points[:, 2]\n",
    "        label['y_B'] = points[:, 3]\n",
    "        label['ordinal_relation'] = points[:, 4]\n",
    "        labels.append(label)\n",
    "        if len(points) != 800:\n",
    "            continue\n",
    "        #labels.append(label)\n",
    "    return labels"
   ]
  },
  {
   "cell_type": "code",
   "execution_count": null,
   "id": "suspected-community",
   "metadata": {},
   "outputs": [],
   "source": [
    "def save(obj, path):\n",
    "    with open(path, 'wb') as f:\n",
    "        pkl.dump(obj, f)\n",
    "        \n",
    "def load(path):\n",
    "    with open(path, 'rb') as f:\n",
    "        return pkl.load(f)  "
   ]
  },
  {
   "cell_type": "code",
   "execution_count": null,
   "id": "hybrid-arbor",
   "metadata": {},
   "outputs": [],
   "source": [
    "labels = convert_labels(path+'train_labels.csv')\n",
    "labels_val = convert_labels(path+'val_labels.csv')\n",
    "labels_test = convert_labels(path+'test_labels.csv')"
   ]
  },
  {
   "cell_type": "code",
   "execution_count": null,
   "id": "impressive-validity",
   "metadata": {},
   "outputs": [],
   "source": [
    "save(labels, path+'labels_train.pkl')\n",
    "save(labels_val, path+'labels_val.pkl')\n",
    "save(labels_test, path+'labels_test.pkl')"
   ]
  },
  {
   "cell_type": "code",
   "execution_count": null,
   "id": "moved-emperor",
   "metadata": {},
   "outputs": [],
   "source": [
    "labels = load(path+'labels_train.pkl')\n",
    "labels_val = load(path+'labels_val.pkl')\n",
    "labels_test = load(path+'labels_test.pkl')"
   ]
  },
  {
   "cell_type": "code",
   "execution_count": null,
   "id": "aboriginal-sunrise",
   "metadata": {},
   "outputs": [],
   "source": []
  }
 ],
 "metadata": {
  "kernelspec": {
   "display_name": "Python 3",
   "language": "python",
   "name": "python3"
  },
  "language_info": {
   "codemirror_mode": {
    "name": "ipython",
    "version": 3
   },
   "file_extension": ".py",
   "mimetype": "text/x-python",
   "name": "python",
   "nbconvert_exporter": "python",
   "pygments_lexer": "ipython3",
   "version": "3.8.5"
  }
 },
 "nbformat": 4,
 "nbformat_minor": 5
}
